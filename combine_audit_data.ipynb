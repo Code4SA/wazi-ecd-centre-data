{
 "cells": [
  {
   "cell_type": "code",
   "execution_count": 120,
   "metadata": {
    "collapsed": true
   },
   "outputs": [],
   "source": [
    "import pandas as pd\n",
    "import csv"
   ]
  },
  {
   "cell_type": "code",
   "execution_count": 147,
   "metadata": {
    "collapsed": true
   },
   "outputs": [],
   "source": [
    "audit_df = pd.read_csv(\n",
    "    'master_list_cleaned_wards.csv',\n",
    "    sep=\",\", low_memory=False,\n",
    "    converters={'geo_ward_num_clean': str}\n",
    ")\n",
    "ilifa_df = pd.read_csv(\n",
    "    'kzn_nw_cleaned_wards.csv',\n",
    "    sep=\",\", low_memory=False,\n",
    "    converters={'geo_ward_num_clean': str}\n",
    ")"
   ]
  },
  {
   "cell_type": "code",
   "execution_count": 236,
   "metadata": {
    "collapsed": false
   },
   "outputs": [],
   "source": [
    "# audit_df['geo_ward_num_clean'] = audit_df['geo_ward_num_clean'].astype(str)\n",
    "# ilifa_df['geo_ward_num_clean'] = ilifa_df['geo_ward_num_clean'].astype(str)"
   ]
  },
  {
   "cell_type": "code",
   "execution_count": 148,
   "metadata": {
    "collapsed": false
   },
   "outputs": [],
   "source": [
    "# Calculate total children(age 3-5) enrolled, and write values to a new column\n",
    "# Note column names are incorrect in that they refer to children present,\n",
    "# though in reality they refer to children enrolled.\n",
    "\n",
    "enrolled_cols = audit_df.loc[:, audit_df.columns[157:187]].columns\n",
    "audit_df.loc[:,'children_enrolled_age_3_to_5'] = audit_df.loc[:,(enrolled_cols)].sum(axis=1)\n",
    "\n",
    "enrolled_cols = ilifa_df.loc[:, ilifa_df.columns[159:189]].columns\n",
    "ilifa_df.loc[:,'children_enrolled_age_3_to_5'] = ilifa_df.loc[:,(enrolled_cols)].sum(axis=1)"
   ]
  },
  {
   "cell_type": "code",
   "execution_count": 149,
   "metadata": {
    "collapsed": false
   },
   "outputs": [],
   "source": [
    "# Calculate total practitioners per child(age 3-5), and write values to a new column\n",
    "\n",
    "practitioner_cols = audit_df.iloc[:, [246, 248, 250]].columns\n",
    "audit_df.loc[:,'practitioners_for_ages_3_to_5'] = audit_df.loc[:,(practitioner_cols)].sum(axis=1)\n",
    "\n",
    "practitioner_cols = ilifa_df.iloc[:, [248, 250, 252]].columns\n",
    "ilifa_df.loc[:,'practitioners_for_ages_3_to_5'] = ilifa_df.loc[:,(practitioner_cols)].sum(axis=1)"
   ]
  },
  {
   "cell_type": "code",
   "execution_count": 150,
   "metadata": {
    "collapsed": false
   },
   "outputs": [],
   "source": [
    "filtered_audit_df = audit_df[\n",
    "    (audit_df.complete == 'Yes') &\n",
    "    (audit_df.geo_ward_num_clean != \"\") &\n",
    "    (len(ilifa_df.geo_ward_num_clean) != 8,) &\n",
    "    ~(audit_df.geo_ward_num_clean.str.contains('na')) &\n",
    "    ~(audit_df.province.isin(['KZN', 'NW']))]\n",
    "\n",
    "filtered_ilifa_df = ilifa_df[\n",
    "    (ilifa_df.complete == 1) &\n",
    "    (ilifa_df.geo_ward_num_clean.str != \"\",) &\n",
    "    ~(audit_df.geo_ward_num_clean.str.contains('na'))\n",
    "]"
   ]
  },
  {
   "cell_type": "code",
   "execution_count": 151,
   "metadata": {
    "collapsed": false
   },
   "outputs": [],
   "source": [
    "filtered_ilifa_df = ilifa_df[\n",
    "    (ilifa_df.complete == 1) &\n",
    "    (len(ilifa_df.geo_ward_num_clean) != 8,)\n",
    "#     ~(audit_df.geo_ward_num_clean.str.contains('na'))\n",
    "]"
   ]
  },
  {
   "cell_type": "code",
   "execution_count": 92,
   "metadata": {
    "collapsed": false
   },
   "outputs": [
    {
     "data": {
      "text/html": [
       "<div>\n",
       "<table border=\"1\" class=\"dataframe\">\n",
       "  <thead>\n",
       "    <tr style=\"text-align: right;\">\n",
       "      <th></th>\n",
       "      <th>province</th>\n",
       "      <th>ID</th>\n",
       "      <th>date</th>\n",
       "      <th>start</th>\n",
       "      <th>end</th>\n",
       "      <th>started</th>\n",
       "      <th>complete</th>\n",
       "      <th>signature</th>\n",
       "      <th>signature_interviewee</th>\n",
       "      <th>gps_location</th>\n",
       "      <th>...</th>\n",
       "      <th>local_muni_clean</th>\n",
       "      <th>geo_local_muni_name</th>\n",
       "      <th>geo_local_muni_code</th>\n",
       "      <th>geo_local_muni_ward_prefix</th>\n",
       "      <th>geo_local_muni_district_code</th>\n",
       "      <th>geo_local_muni_province_code</th>\n",
       "      <th>geo_local_muni_province_number</th>\n",
       "      <th>geo_ward_num_clean</th>\n",
       "      <th>children_enrolled_age_3_to_5</th>\n",
       "      <th>practitioners_per_child_aged_3_to_5</th>\n",
       "    </tr>\n",
       "  </thead>\n",
       "  <tbody>\n",
       "  </tbody>\n",
       "</table>\n",
       "<p>0 rows × 537 columns</p>\n",
       "</div>"
      ],
      "text/plain": [
       "Empty DataFrame\n",
       "Columns: [province, ID, date, start, end, started, complete, signature, signature_interviewee, gps_location, ecd_centre_photo, name_of_site, name_of_interviewee, surname_of_interviewee, job_title, tel_landline, tel_cell, tel_fax, email, website, address_ward_number, local_municipality, address_street_name, address_flat_name, address_stand_plot_number, address_suburb_or_township, address_town_or_village, address_postal_code, postal_same_address, postal_street_name, postal_flat_name, postal_po_box_number, postal_private_bag_number, postal_town_or_village, postal_code, type_of_area, type_of_area_other, nearest_primary_school, nearest_clinic, registration_funding_status, site_registration_no, npo_no, year_of_registration, reason_for_conditional_registration, reason_for_conditional_registration_0_Inadequate infrastructure, reason_for_conditional_registration_1_Inadequate equipment, reason_for_conditional_registration_2_Inadequate child practitioner support materials, reason_for_conditional_registration_3_Inadequate curriculum/programme, reason_for_conditional_registration_4_Not enough staff, reason_for_conditional_registration_5_Inadequate staff training/skills, reason_for_conditional_registration_6_Inadequate nutrition, reason_for_conditional_registration_7_Inadequate health and safety, reason_for_conditional_registration_8_Other, reason_for_conditional_registration_other, apply_for_registration, children_accommodated, health_environmental_certificate, health_environmental_certificate_centre_capacity, registered_with_doe, valid_health_certificate, receives_dsd_subsidy, dsd_subsidy_monthly_amount_per_child, days_of_operation, days_of_operation_0_Monday, days_of_operation_1_Tuesday, days_of_operation_2_Wednesday, days_of_operation_3_Thursday, days_of_operation_4_Friday, days_of_operation_5_Saturday, days_of_operation_6_Sunday, hours_of_operation_from, hours_of_operation_to, open_during_holidays, has_constitution, has_management_committee, management_committee_meeting_regularity, management_committee_meeting_minutes, management_committee_portfolios, management_committee_portfolios_0_Chairperson, management_committee_portfolios_1_Secretary, management_committee_portfolios_2_Treasurer, management_committee_parents_represented, owner_of_site, owner_of_site_other, type_of_site, submitted_implementation_business_plan, inspected_by_dsd, inspected_by_dsd_year, institutions_involved_with_centre, institutions_involved_with_centre_0_Department of Social Development, institutions_involved_with_centre_1_Department of Health, institutions_involved_with_centre_2_Local Government, institutions_involved_with_centre_3_Department of Education, institutions_involved_with_centre_4_Non-Governmental Organisations, institutions_involved_with_centre_5_Other, admin_employment_contracts, admin_job_descriptions, admin_payslips, admin_staff_development_plans, admin_attendance_register_staff, ...]\n",
       "Index: []\n",
       "\n",
       "[0 rows x 537 columns]"
      ]
     },
     "execution_count": 92,
     "metadata": {},
     "output_type": "execute_result"
    }
   ],
   "source": [
    "filtered_audit_df[filtered_audit_df.geo_ward_num_clean.isnull()]"
   ]
  },
  {
   "cell_type": "code",
   "execution_count": 79,
   "metadata": {
    "collapsed": false
   },
   "outputs": [],
   "source": [
    "# These need to fixed.\n",
    "# audit_df[(audit_df.complete == 'Yes')  & (audit_df.geo_ward_num_clean.notnull()) & (audit_df.geo_local_muni_code.isnull())]"
   ]
  },
  {
   "cell_type": "code",
   "execution_count": 152,
   "metadata": {
    "collapsed": false
   },
   "outputs": [],
   "source": [
    "# Remap the two dataframes to have matching columns\n",
    "\n",
    "audit_df_cols = [\n",
    "    'ID',\n",
    "    'geo_local_muni_province_code',\n",
    "    'geo_local_muni_district_code',\n",
    "    'geo_local_muni_code',\n",
    "    'geo_ward_num_clean',\n",
    "    'children_enrolled_age_3_to_5',\n",
    "    'registration_funding_status',\n",
    "    'practitioners_for_ages_3_to_5',\n",
    "    'type_of_site',\n",
    "    'has_grade_r',\n",
    "    'no_children_grant_csg'\n",
    "]\n",
    " \n",
    "ilifa_df_cols = [\n",
    "    'ID',\n",
    "    'PROVINCE',\n",
    "    'DISTRICT CODE',\n",
    "    'LOCAL CODE',\n",
    "    'geo_ward_num_clean',\n",
    "    'children_enrolled_age_3_to_5',\n",
    "    'registration_funding_status',\n",
    "    'practitioners_for_ages_3_to_5',\n",
    "    'type_of_site',\n",
    "    'has_grade_r',\n",
    "    '0_children_grant_csg'\n",
    "]\n",
    "\n",
    "sub_audit_df = filtered_audit_df.loc[:,(audit_df_cols)]\n",
    "sub_ilifa_df = filtered_ilifa_df.loc[:,(audit_df_cols)]\n",
    "\n",
    "sub_audit_df.columns = [\n",
    "    'id', 'province', 'district', 'municipality', 'ward',\n",
    "    'children_enrolled_age_3_to_5',\n",
    "    'registration_status_of_centre',\n",
    "    'practitioners_for_ages_3_to_5',\n",
    "    'type_of_centre',\n",
    "    'centres_with_grade_r_learners',\n",
    "    'child_support_grant']\n",
    "sub_ilifa_df.columns = [\n",
    "    'id', 'province', 'district', 'municipality', 'ward',\n",
    "    'children_enrolled_age_3_to_5',\n",
    "    'registration_status_of_centre',\n",
    "    'practitioners_for_ages_3_to_5',\n",
    "    'type_of_centre',\n",
    "    'centres_with_grade_r_learners',\n",
    "    'child_support_grant']"
   ]
  },
  {
   "cell_type": "code",
   "execution_count": 252,
   "metadata": {
    "collapsed": false
   },
   "outputs": [],
   "source": [
    "# Spot check results\n",
    "# sub_audit_df.apply(lambda x: sum(x.isnull()),axis=0)\n",
    "# sub_ilifa_df.apply(lambda x: sum(x.isnull()),axis=0)"
   ]
  },
  {
   "cell_type": "code",
   "execution_count": 153,
   "metadata": {
    "collapsed": false
   },
   "outputs": [],
   "source": [
    "# Combine the datasets\n",
    "\n",
    "combined_df = sub_audit_df.append(sub_ilifa_df)\n",
    "combined_df = combined_df[(combined_df.ward != '')]\n",
    "combined_df = combined_df.reset_index(drop=True)"
   ]
  },
  {
   "cell_type": "code",
   "execution_count": 15,
   "metadata": {
    "collapsed": false
   },
   "outputs": [],
   "source": [
    "# Children enrolled\n",
    "\n",
    "geo_levels = [\n",
    "    'province',\n",
    "    'district',\n",
    "    'municipality',\n",
    "    'ward'\n",
    "]\n",
    "\n",
    "df_dict = {}\n",
    "# enrolled_df = pd.DataFrame(columns=['geo_level', 'children_enrolled_total'])\n",
    "\n",
    "for geo_level in geo_levels:\n",
    "    geo_level_df = combined_df.loc[:, [geo_level, 'children_enrolled_age_3_to_5']].groupby(geo_level).sum()\n",
    "    geo_level_df['geo_level'] = geo_level\n",
    "    geo_level_df['geo_code'] = geo_level_df.index\n",
    "    geo_level_df.reset_index(inplace=True, drop=True)\n",
    "    \n",
    "    df_dict[geo_level] = geo_level_df\n",
    "#     geo_level_df.rename(columns={col:'geo_code'})\n",
    "    \n",
    "    \n",
    "\n",
    "#     enrolled_by_geolevel[geo_level]['geo_code'] = enrolled_by_geolevel[geo_level].index\n",
    "#     enrolled_by_geolevel[geo_level].reset_index(inplace=True, drop=True)\n",
    "    \n",
    "csv_df = pd.concat([df for df in df_dict.itervalues()])\n",
    "\n",
    "# Append row for country results\n",
    "country = {\n",
    "    'geo_level': 'country',\n",
    "    'geo_code': 'ZA',\n",
    "    'children_enrolled_age_3_to_5': combined_df['children_enrolled_age_3_to_5'].sum()\n",
    "}\n",
    "\n",
    "country_df = pd.DataFrame([country])\n",
    "\n",
    "csv_df = csv_df.append(country_df)\n",
    "csv_df.reset_index(inplace=True, drop=True)\n",
    "\n",
    "csv_df.loc[csv_df['geo_level'] == 'country']\n",
    "csv_df['children_enrolled_age_3_to_5'].fillna(0, inplace=True)"
   ]
  },
  {
   "cell_type": "code",
   "execution_count": 19,
   "metadata": {
    "collapsed": false
   },
   "outputs": [],
   "source": [
    "csv_df['children_enrolled_age_3_to_5'] = csv_df['children_enrolled_age_3_to_5'].map('{:.0f}'.format)\n",
    "headers = ['geo_level', 'geo_code', 'children_enrolled_age_3_to_5']\n",
    "csv_df.to_csv('total_ecd_children_enrolled.csv', columns=headers, index=False)"
   ]
  },
  {
   "cell_type": "code",
   "execution_count": 85,
   "metadata": {
    "collapsed": false
   },
   "outputs": [
    {
     "data": {
      "text/html": [
       "<div>\n",
       "<table border=\"1\" class=\"dataframe\">\n",
       "  <thead>\n",
       "    <tr style=\"text-align: right;\">\n",
       "      <th></th>\n",
       "      <th>community_based</th>\n",
       "      <th>geo_code</th>\n",
       "      <th>geo_level</th>\n",
       "      <th>home_based</th>\n",
       "      <th>not_specified</th>\n",
       "      <th>other</th>\n",
       "      <th>school_based</th>\n",
       "      <th>total_ecd_centres</th>\n",
       "    </tr>\n",
       "  </thead>\n",
       "  <tbody>\n",
       "    <tr>\n",
       "      <th>3890</th>\n",
       "      <td>46267</td>\n",
       "      <td>ZA</td>\n",
       "      <td>country</td>\n",
       "      <td>15728</td>\n",
       "      <td>4786</td>\n",
       "      <td>1248</td>\n",
       "      <td>7120</td>\n",
       "      <td>75149</td>\n",
       "    </tr>\n",
       "  </tbody>\n",
       "</table>\n",
       "</div>"
      ],
      "text/plain": [
       "      community_based geo_code geo_level  home_based  not_specified  other  \\\n",
       "3890            46267       ZA   country       15728           4786   1248   \n",
       "\n",
       "      school_based  total_ecd_centres  \n",
       "3890          7120              75149  "
      ]
     },
     "execution_count": 85,
     "metadata": {},
     "output_type": "execute_result"
    }
   ],
   "source": [
    "# ECD centres by type\n",
    "\n",
    "geo_levels = [\n",
    "    'province',\n",
    "    'district',\n",
    "    'municipality',\n",
    "    'ward',\n",
    "]\n",
    "\n",
    "df_dict = {}\n",
    "\n",
    "for geo_level in geo_levels:\n",
    "    geo_level_df = combined_df.reset_index().pivot_table(index=[geo_level], columns=['type_of_centre'], values='index', aggfunc='count')\n",
    "    geo_level_df['geo_level'] = geo_level\n",
    "    geo_level_df['geo_code'] = geo_level_df.index\n",
    "    geo_level_df.reset_index(inplace=True, drop=True)\n",
    "    \n",
    "    df_dict[geo_level] = geo_level_df\n",
    "    \n",
    "csv_df = pd.concat([df for df in df_dict.itervalues()])\n",
    "\n",
    "centre_type_cols = ['community_based', 'home_based', 'school_based', 'other', 'not_specified']\n",
    "csv_df.rename(columns={\n",
    "    '(Please make a selection)': 'not_specified',\n",
    "    'Community-based': 'community_based',\n",
    "    'Home-based': 'home_based',\n",
    "    'School-based': 'school_based',\n",
    "    'Other': 'other'}, inplace=True)\n",
    "\n",
    "csv_df.fillna(0, inplace=True)\n",
    "csv_df.loc[:,'total_ecd_centres'] = csv_df.loc[:,(centre_type_cols)].sum(axis=1)\n",
    "\n",
    "# Append row for country results\n",
    "\n",
    "centre_type_cols.append('total_ecd_centres')\n",
    "\n",
    "country = {\n",
    "    'geo_level': 'country',\n",
    "    'geo_code': 'ZA'}\n",
    "\n",
    "for col in centre_type_cols:\n",
    "    country[col] = csv_df[col].sum()\n",
    "\n",
    "country_df = pd.DataFrame([country])\n",
    "\n",
    "csv_df = csv_df.append(country_df)\n",
    "csv_df.reset_index(inplace=True, drop=True)\n",
    "\n",
    "csv_df.loc[csv_df['geo_level'] == 'country']"
   ]
  },
  {
   "cell_type": "code",
   "execution_count": 86,
   "metadata": {
    "collapsed": false
   },
   "outputs": [],
   "source": [
    "for col in centre_type_cols:\n",
    "    csv_df[col] = csv_df[col].map('{:.0f}'.format)\n",
    "    \n",
    "headers = ['geo_level', 'geo_code'] + centre_type_cols\n",
    "csv_df.to_csv('centres_by_type.csv', columns=headers, index=False)"
   ]
  },
  {
   "cell_type": "code",
   "execution_count": 98,
   "metadata": {
    "collapsed": false
   },
   "outputs": [
    {
     "data": {
      "text/html": [
       "<div>\n",
       "<table border=\"1\" class=\"dataframe\">\n",
       "  <thead>\n",
       "    <tr style=\"text-align: right;\">\n",
       "      <th></th>\n",
       "      <th>geo_code</th>\n",
       "      <th>geo_level</th>\n",
       "      <th>not_registered</th>\n",
       "      <th>registered</th>\n",
       "      <th>registration_conditional</th>\n",
       "      <th>registration_in_process</th>\n",
       "      <th>registration_incomplete-access_denied</th>\n",
       "      <th>registration_incomplete-closed</th>\n",
       "      <th>registration_incomplete-not_found</th>\n",
       "      <th>total_ecd_centres</th>\n",
       "      <th>unspecified</th>\n",
       "    </tr>\n",
       "  </thead>\n",
       "  <tbody>\n",
       "    <tr>\n",
       "      <th>3897</th>\n",
       "      <td>ZA</td>\n",
       "      <td>country</td>\n",
       "      <td>21226</td>\n",
       "      <td>31878</td>\n",
       "      <td>7584</td>\n",
       "      <td>10297</td>\n",
       "      <td>1074</td>\n",
       "      <td>2645</td>\n",
       "      <td>300</td>\n",
       "      <td>76052</td>\n",
       "      <td>1048</td>\n",
       "    </tr>\n",
       "  </tbody>\n",
       "</table>\n",
       "</div>"
      ],
      "text/plain": [
       "     geo_code geo_level  not_registered  registered  registration_conditional  \\\n",
       "3897       ZA   country           21226       31878                      7584   \n",
       "\n",
       "      registration_in_process  registration_incomplete-access_denied  \\\n",
       "3897                    10297                                   1074   \n",
       "\n",
       "      registration_incomplete-closed  registration_incomplete-not_found  \\\n",
       "3897                            2645                                300   \n",
       "\n",
       "      total_ecd_centres  unspecified  \n",
       "3897              76052         1048  "
      ]
     },
     "execution_count": 98,
     "metadata": {},
     "output_type": "execute_result"
    }
   ],
   "source": [
    "# ECD centres by registration status\n",
    "\n",
    "geo_levels = [\n",
    "    'province',\n",
    "    'district',\n",
    "    'municipality',\n",
    "    'ward',\n",
    "]\n",
    "\n",
    "df_dict = {}\n",
    "\n",
    "for geo_level in geo_levels:\n",
    "    geo_level_df = combined_df.reset_index().pivot_table(index=[geo_level], columns=['registration_status_of_centre'], values='index', aggfunc='count')\n",
    "    geo_level_df['geo_level'] = geo_level\n",
    "    geo_level_df['geo_code'] = geo_level_df.index\n",
    "    geo_level_df.reset_index(inplace=True, drop=True)\n",
    "    \n",
    "    df_dict[geo_level] = geo_level_df\n",
    "    \n",
    "csv_df = pd.concat([df for df in df_dict.itervalues()])\n",
    "\n",
    "centre_type_cols = [\n",
    "    'registered', 'registration_conditional', 'registration_in_process',\n",
    "    'registration_incomplete-access_denied', 'registration_incomplete-closed', 'registration_incomplete-not_found',\n",
    "    'not_registered', 'unspecified']\n",
    "csv_df.rename(columns={\n",
    "    '(Please make a selection)': 'unspecified',\n",
    "    'Conditional': 'registration_conditional',\n",
    "    'Full': 'registered',\n",
    "    'INCOMPLETE - ACCESS DENIED': 'registration_incomplete-access_denied',\n",
    "    'INCOMPLETE - CLOSED': 'registration_incomplete-closed',\n",
    "    'INCOMPLETE - NOT FOUND': 'registration_incomplete-not_found',\n",
    "    'In process': 'registration_in_process',\n",
    "    'Not Registered': 'not_registered',\n",
    "    }, inplace=True)\n",
    "\n",
    "csv_df.fillna(0, inplace=True)\n",
    "csv_df.loc[:,'total_ecd_centres'] = csv_df.loc[:,(centre_type_cols)].sum(axis=1)\n",
    "\n",
    "# Append row for country results\n",
    "\n",
    "centre_type_cols.append('total_ecd_centres')\n",
    "\n",
    "country = {\n",
    "    'geo_level': 'country',\n",
    "    'geo_code': 'ZA'}\n",
    "\n",
    "for col in centre_type_cols:\n",
    "    country[col] = csv_df[col].sum()\n",
    "\n",
    "country_df = pd.DataFrame([country])\n",
    "\n",
    "csv_df = csv_df.append(country_df)\n",
    "csv_df.reset_index(inplace=True, drop=True)\n",
    "\n",
    "csv_df.loc[csv_df['geo_level'] == 'country']"
   ]
  },
  {
   "cell_type": "code",
   "execution_count": 99,
   "metadata": {
    "collapsed": true
   },
   "outputs": [],
   "source": [
    "for col in centre_type_cols:\n",
    "    csv_df[col] = csv_df[col].map('{:.0f}'.format)\n",
    "    \n",
    "headers = ['geo_level', 'geo_code'] + centre_type_cols\n",
    "csv_df.to_csv('centres_by_registration.csv', columns=headers, index=False)"
   ]
  },
  {
   "cell_type": "code",
   "execution_count": 116,
   "metadata": {
    "collapsed": false
   },
   "outputs": [],
   "source": [
    "# Practitioners per child aged 3-5\n",
    "\n",
    "geo_levels = [\n",
    "    'province',\n",
    "    'district',\n",
    "    'municipality',\n",
    "    'ward'\n",
    "]\n",
    "\n",
    "df_dict = {}\n",
    "# enrolled_df = pd.DataFrame(columns=['geo_level', 'children_enrolled_total'])\n",
    "\n",
    "for geo_level in geo_levels:\n",
    "    geo_level_df = combined_df.loc[:, [geo_level, 'practitioners_for_ages_3_to_5']].groupby(geo_level).sum()\n",
    "    geo_level_df['geo_level'] = geo_level\n",
    "    geo_level_df['geo_code'] = geo_level_df.index\n",
    "    geo_level_df.reset_index(inplace=True, drop=True)\n",
    "    \n",
    "    df_dict[geo_level] = geo_level_df\n",
    "\n",
    "# Combine the geo_levels into a single dataframe\n",
    "csv_df = pd.concat([df for df in df_dict.itervalues()])\n",
    "\n",
    "# Sum column and append results as row for country results\n",
    "country = {\n",
    "    'geo_level': 'country',\n",
    "    'geo_code': 'ZA',\n",
    "    'practitioners_for_ages_3_to_5': combined_df['practitioners_for_ages_3_to_5'].sum()\n",
    "}\n",
    "\n",
    "country_df = pd.DataFrame([country])\n",
    "\n",
    "csv_df = csv_df.append(country_df)\n",
    "csv_df.reset_index(inplace=True, drop=True)\n",
    "\n",
    "csv_df.loc[csv_df['geo_level'] == 'country']\n",
    "csv_df['practitioners_for_ages_3_to_5'].fillna(0, inplace=True)"
   ]
  },
  {
   "cell_type": "code",
   "execution_count": 117,
   "metadata": {
    "collapsed": true
   },
   "outputs": [],
   "source": [
    "csv_df['practitioners_for_ages_3_to_5'] = csv_df['practitioners_for_ages_3_to_5'].map('{:.0f}'.format)\n",
    "headers = ['geo_level', 'geo_code', 'practitioners_per_child_aged_3_to_5']\n",
    "csv_df.to_csv('ecd_practitioners.csv', columns=headers, index=False)"
   ]
  },
  {
   "cell_type": "code",
   "execution_count": 118,
   "metadata": {
    "collapsed": false
   },
   "outputs": [],
   "source": [
    "# Practitioners per child aged 3-5\n",
    "\n",
    "geo_levels = [\n",
    "    'province',\n",
    "    'district',\n",
    "    'municipality',\n",
    "    'ward'\n",
    "]\n",
    "\n",
    "df_dict = {}\n",
    "# enrolled_df = pd.DataFrame(columns=['geo_level', 'children_enrolled_total'])\n",
    "\n",
    "for geo_level in geo_levels:\n",
    "    geo_level_df = combined_df.loc[:, [geo_level, 'centres_with_grade_r_learners']].groupby(geo_level).count()\n",
    "    geo_level_df['geo_level'] = geo_level\n",
    "    geo_level_df['geo_code'] = geo_level_df.index\n",
    "    geo_level_df.reset_index(inplace=True, drop=True)\n",
    "    \n",
    "    df_dict[geo_level] = geo_level_df\n",
    "\n",
    "# Combine the geo_levels into a single dataframe\n",
    "csv_df = pd.concat([df for df in df_dict.itervalues()])\n",
    "\n",
    "# Sum column and append results as row for country results\n",
    "country = {\n",
    "    'geo_level': 'country',\n",
    "    'geo_code': 'ZA',\n",
    "    'centres_with_grade_r_learners': combined_df['centres_with_grade_r_learners'].count()\n",
    "}\n",
    "\n",
    "country_df = pd.DataFrame([country])\n",
    "\n",
    "csv_df = csv_df.append(country_df)\n",
    "csv_df.reset_index(inplace=True, drop=True)\n",
    "\n",
    "csv_df.loc[csv_df['geo_level'] == 'country']\n",
    "csv_df['centres_with_grade_r_learners'].fillna(0, inplace=True)"
   ]
  },
  {
   "cell_type": "code",
   "execution_count": 119,
   "metadata": {
    "collapsed": true
   },
   "outputs": [],
   "source": [
    "csv_df['centres_with_grade_r_learners'] = csv_df['centres_with_grade_r_learners'].map('{:.0f}'.format)\n",
    "headers = ['geo_level', 'geo_code', 'centres_with_grade_r_learners']\n",
    "csv_df.to_csv('ecd_grade_r.csv', columns=headers, index=False)"
   ]
  },
  {
   "cell_type": "code",
   "execution_count": 179,
   "metadata": {
    "collapsed": false
   },
   "outputs": [
    {
     "data": {
      "text/html": [
       "<div>\n",
       "<table border=\"1\" class=\"dataframe\">\n",
       "  <thead>\n",
       "    <tr style=\"text-align: right;\">\n",
       "      <th></th>\n",
       "      <th>child_support_grant</th>\n",
       "      <th>geo_code</th>\n",
       "      <th>geo_level</th>\n",
       "    </tr>\n",
       "  </thead>\n",
       "  <tbody>\n",
       "    <tr>\n",
       "      <th>3901</th>\n",
       "      <td>497409</td>\n",
       "      <td>ZA</td>\n",
       "      <td>country</td>\n",
       "    </tr>\n",
       "  </tbody>\n",
       "</table>\n",
       "</div>"
      ],
      "text/plain": [
       "      child_support_grant geo_code geo_level\n",
       "3901               497409       ZA   country"
      ]
     },
     "execution_count": 179,
     "metadata": {},
     "output_type": "execute_result"
    }
   ],
   "source": [
    "# Practitioners per child aged 3-5\n",
    "combined_df['child_support_grant'].fillna(0, inplace=True)\n",
    "geo_levels = [\n",
    "    'province',\n",
    "    'district',\n",
    "    'municipality',\n",
    "    'ward'\n",
    "]\n",
    "\n",
    "df_dict = {}\n",
    "# enrolled_df = pd.DataFrame(columns=['geo_level', 'children_enrolled_total'])\n",
    "\n",
    "for geo_level in geo_levels:\n",
    "    geo_level_df = combined_df.loc[:, [geo_level, 'child_support_grant']].groupby(geo_level).sum()\n",
    "    geo_level_df['geo_level'] = geo_level\n",
    "    geo_level_df['geo_code'] = geo_level_df.index\n",
    "    geo_level_df.reset_index(inplace=True, drop=True)\n",
    "    \n",
    "    df_dict[geo_level] = geo_level_df\n",
    "\n",
    "# Combine the geo_levels into a single dataframe\n",
    "csv_df = pd.concat([df for df in df_dict.itervalues()])\n",
    "\n",
    "# Sum column and append results as row for country results\n",
    "country = {\n",
    "    'geo_level': 'country',\n",
    "    'geo_code': 'ZA',\n",
    "    'child_support_grant': combined_df['child_support_grant'].sum()\n",
    "}\n",
    "\n",
    "country_df = pd.DataFrame([country])\n",
    "\n",
    "csv_df = csv_df.append(country_df)\n",
    "csv_df.reset_index(inplace=True, drop=True)\n",
    "\n",
    "csv_df.loc[csv_df['geo_level'] == 'country']\n",
    "# csv_df['child_support_grant'].fillna(0, inplace=True)"
   ]
  },
  {
   "cell_type": "code",
   "execution_count": 180,
   "metadata": {
    "collapsed": false
   },
   "outputs": [],
   "source": [
    "csv_df['child_support_grant'] = csv_df['child_support_grant'].map('{:.0f}'.format)\n",
    "headers = ['geo_level', 'geo_code', 'child_support_grant']\n",
    "csv_df.to_csv('ecd_grants.csv', columns=headers, index=False)"
   ]
  },
  {
   "cell_type": "code",
   "execution_count": 167,
   "metadata": {
    "collapsed": false
   },
   "outputs": [
    {
     "data": {
      "text/plain": [
       "child_support_grant    object\n",
       "geo_code               object\n",
       "geo_level              object\n",
       "dtype: object"
      ]
     },
     "execution_count": 167,
     "metadata": {},
     "output_type": "execute_result"
    }
   ],
   "source": [
    "csv_df.dtypes"
   ]
  },
  {
   "cell_type": "code",
   "execution_count": 163,
   "metadata": {
    "collapsed": false
   },
   "outputs": [
    {
     "data": {
      "text/plain": [
       "id                                object\n",
       "province                          object\n",
       "district                          object\n",
       "municipality                      object\n",
       "ward                              object\n",
       "children_enrolled_age_3_to_5     float64\n",
       "registration_status_of_centre     object\n",
       "practitioners_for_ages_3_to_5    float64\n",
       "type_of_centre                    object\n",
       "centres_with_grade_r_learners     object\n",
       "child_support_grant              float64\n",
       "dtype: object"
      ]
     },
     "execution_count": 163,
     "metadata": {},
     "output_type": "execute_result"
    }
   ],
   "source": [
    "combined_df.dtypes"
   ]
  },
  {
   "cell_type": "code",
   "execution_count": 176,
   "metadata": {
    "collapsed": false
   },
   "outputs": [
    {
     "data": {
      "text/html": [
       "<div>\n",
       "<table border=\"1\" class=\"dataframe\">\n",
       "  <thead>\n",
       "    <tr style=\"text-align: right;\">\n",
       "      <th></th>\n",
       "      <th>child_support_grant</th>\n",
       "    </tr>\n",
       "    <tr>\n",
       "      <th>province</th>\n",
       "      <th></th>\n",
       "    </tr>\n",
       "  </thead>\n",
       "  <tbody>\n",
       "    <tr>\n",
       "      <th>EC</th>\n",
       "      <td>64970</td>\n",
       "    </tr>\n",
       "    <tr>\n",
       "      <th>FS</th>\n",
       "      <td>66765</td>\n",
       "    </tr>\n",
       "    <tr>\n",
       "      <th>GT</th>\n",
       "      <td>79707</td>\n",
       "    </tr>\n",
       "    <tr>\n",
       "      <th>KZN</th>\n",
       "      <td>0</td>\n",
       "    </tr>\n",
       "    <tr>\n",
       "      <th>LIM</th>\n",
       "      <td>133572</td>\n",
       "    </tr>\n",
       "    <tr>\n",
       "      <th>MP</th>\n",
       "      <td>72196</td>\n",
       "    </tr>\n",
       "    <tr>\n",
       "      <th>NC</th>\n",
       "      <td>18222</td>\n",
       "    </tr>\n",
       "    <tr>\n",
       "      <th>NW</th>\n",
       "      <td>967</td>\n",
       "    </tr>\n",
       "    <tr>\n",
       "      <th>WC</th>\n",
       "      <td>60956</td>\n",
       "    </tr>\n",
       "  </tbody>\n",
       "</table>\n",
       "</div>"
      ],
      "text/plain": [
       "          child_support_grant\n",
       "province                     \n",
       "EC                      64970\n",
       "FS                      66765\n",
       "GT                      79707\n",
       "KZN                         0\n",
       "LIM                    133572\n",
       "MP                      72196\n",
       "NC                      18222\n",
       "NW                        967\n",
       "WC                      60956"
      ]
     },
     "execution_count": 176,
     "metadata": {},
     "output_type": "execute_result"
    }
   ],
   "source": [
    "test_df.loc[:, ['province', 'child_support_grant']].groupby('province').sum()"
   ]
  },
  {
   "cell_type": "code",
   "execution_count": 175,
   "metadata": {
    "collapsed": true
   },
   "outputs": [],
   "source": [
    "test_df = combined_df[\n",
    "    (combined_df.child_support_grant.notnull())]"
   ]
  },
  {
   "cell_type": "code",
   "execution_count": null,
   "metadata": {
    "collapsed": true
   },
   "outputs": [],
   "source": []
  }
 ],
 "metadata": {
  "kernelspec": {
   "display_name": "Python 2",
   "language": "python",
   "name": "python2"
  },
  "language_info": {
   "codemirror_mode": {
    "name": "ipython",
    "version": 2
   },
   "file_extension": ".py",
   "mimetype": "text/x-python",
   "name": "python",
   "nbconvert_exporter": "python",
   "pygments_lexer": "ipython2",
   "version": "2.7.10"
  }
 },
 "nbformat": 4,
 "nbformat_minor": 0
}
